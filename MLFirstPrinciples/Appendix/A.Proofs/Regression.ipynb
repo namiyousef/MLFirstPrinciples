{
 "cells": [
  {
   "cell_type": "markdown",
   "id": "45b51757",
   "metadata": {},
   "source": [
    "# Regression Proofs"
   ]
  },
  {
   "cell_type": "markdown",
   "id": "e4ef0798",
   "metadata": {},
   "source": [
    "## Regression\n",
    "\n",
    "\n",
    "\n",
    "\n",
    "\n",
    "\n",
    "\n",
    "\n",
    "\n",
    "\n",
    "\n",
    "\n",
    "\n",
    "\n",
    "\n",
    "\n",
    "\n",
    "<a id=\"TargetVarDist\"></a>\n",
    "### Prove that $\\underline{y}\\sim \\mathcal{N}(\\underline{\\underline{X}}\\cdot \\underline{w}, \\sigma^2\\underline{\\underline{\\delta}})$\n",
    "\n",
    "\n",
    "\n",
    "We start with the fact that $\\underline{y} = \\underline{\\underline{X}}\\cdot \\underline{w}+\\underline{\\varepsilon}$. Taking the expectation, we get:\n",
    "$$\n",
    "\\mathbb{E}[\\underline{y}] = \\mathbb{E}[\\underline{\\underline{X}}\\cdot \\underline{w}+ \\underline{\\varepsilon}] = \\mathbb{E}[\\underline{\\underline{X}}\\cdot \\underline{w}] + \\mathbb{E}[\\underline{\\varepsilon}]\n",
    "$$\n",
    "\n",
    "Recall that the errors are assumed to have a mean of zero, thus $\\mathbb{E}[\\underline{\\varepsilon}]$. Further, we note that the matrix $\\underline{\\underline{X}}$ is fixed since it is observed, and $\\underline{\\beta}$ is also fixed by definition. Therefore, we get that:\n",
    "\n",
    "$$\n",
    "\\mathbb{E}[\\underline{y}] = \\underline{\\underline{X}}\\cdot \\underline{w}\n",
    "$$\n",
    "\n",
    "To get the variance, we simply take $\\mathrm{Var}(\\underline{y})$:\n",
    "$$\n",
    "\\mathrm{Var}(\\underline{y}) = \\mathrm{Var}(\\underline{\\underline{X}}\\cdot \\underline{w}) + \\mathrm{Var}(\\underline{\\varepsilon})\n",
    "$$\n",
    "\n",
    "Noting that $\\underline{\\varepsilon}$ has fixed variance $\\sigma^2$ and that $\\underline{\\underline{X}}\\cdot \\underline{w}$ is constant (as argued above), we get:\n",
    "\n",
    "$$\n",
    "\\mathrm{Var}(\\underline{y}) = \\sigma^2\n",
    "$$\n",
    "\n",
    "Finally, we argue that since the distribution of $\\varepsilon$ is normal, and that the term $\\underline{\\underline{X}}\\cdot \\underline{w}$ is constant, that $\\underline{y}$ must also be normally distributed. Therefore:\n",
    "\n",
    "$$\n",
    "\\underline{y}\\sim \\mathcal{N}(\\underline{\\underline{X}}\\cdot \\underline{w}, \\sigma^2\\underline{\\underline{\\delta}})\n",
    "$$\n",
    "\n",
    "<a id=\"OLS\"></a>\n",
    "### Prove that the optimal value to the OLS problem is given by $\\underline{\\underline{X}}^\\top \\underline{\\underline{X}} \\cdot \\underline{\\hat{w}} = \\underline{\\underline{X}}^\\top \\underline{y}$\n"
   ]
  },
  {
   "cell_type": "code",
   "execution_count": null,
   "id": "edc554bf",
   "metadata": {},
   "outputs": [],
   "source": []
  }
 ],
 "metadata": {
  "kernelspec": {
   "display_name": "MLFirstPrinciples_dev",
   "language": "python",
   "name": "mlfirstprinciples_dev"
  },
  "language_info": {
   "codemirror_mode": {
    "name": "ipython",
    "version": 3
   },
   "file_extension": ".py",
   "mimetype": "text/x-python",
   "name": "python",
   "nbconvert_exporter": "python",
   "pygments_lexer": "ipython3",
   "version": "3.7.0"
  }
 },
 "nbformat": 4,
 "nbformat_minor": 5
}
