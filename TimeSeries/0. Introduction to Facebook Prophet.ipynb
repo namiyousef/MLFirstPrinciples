{
 "cells": [
  {
   "cell_type": "markdown",
   "metadata": {},
   "source": [
    "# 0. Introduction to Facebook Prophet\n",
    "\n",
    "<img src=\"Images/Prophet_image.png\">\n",
    "<center style=\"color: gray; font-style: italic\">Forecasting on Peyton Manning's Wikipedia page views using Facebook Prophet.</center>\n",
    "<div style=\"visibility:hidden\">https://facebook.github.io/prophet/docs/quick_start.html</div>\n",
    "\n",
    "### In this Notebook, you will...\n",
    "\n",
    "1. Get familiar with what Facebook Prophet is, what it's strengths and limitations are\n",
    "2. Get familiar with how Prophet makes predictions and fits data\n",
    "3. Learn how to implement a basic Prophet model\n",
    "4. Understand some of the nuances of Prophet with regards to trends, seasonality and holidays\n",
    "5. Learn how to deploy your Prophet model, load and save it, as well as evaluate it\n",
    "6. More complex problems...\n",
    "\n",
    "Please note that in-text citations will be cited appropriately. Images will not be cited within the references; instead their links can be found by double-clicking the relevant cells, and finding the HTML tags that have links."
   ]
  },
  {
   "cell_type": "markdown",
   "metadata": {},
   "source": [
    "# What is Facebook Prophet?\n",
    "\n",
    "Facebook Prophet is the industry standard for forecasting time-series data due to it's ease of use and similarity with other common data science libraries, such as sklearn [1]. It works very well with seasonal data, and is robust to missing data and outliers [2]. In fact, Prophet was designed to reduce the data science skills gap by automating time-series forecasts [3].\n",
    "\n",
    "### What makes Prophet so powerful?\n",
    "\n",
    "Prophet is great because it's fairly easy to get started with and it handles things such as seasonality, trends and missing data very well. For those starting their journey with time-series data analysis, Prophet is great for it provides an *easy* way to make predictions without the need for an 'expert' knowledge in either the industry where it is applied or even data science. That said though, a true expert (which hopefully you'll all be by the end of the course!) will be able to tune it's parameters to solve problems of different difficulties.\n",
    "\n",
    "The Prophet model works best when you have data that contains **strong** seasonalities and **lots** of historical data.\n",
    "\n",
    "### How does the Prophet model make predictions?\n",
    "\n",
    "The Prophet model, by default, considers the data to be of the following form:\n",
    "\n",
    "$$y(t) = g(t) + s(t) + h(t) + \\epsilon_t$$\n",
    "\n",
    "\n",
    "Where $g(t)$ is the **trend**, $s(t)$ is the periodic signals (**seasons** or **seasonality**), $h(t)$ is the **holiday effect** (this refers to irregular occuring events that cover a certain period of time) and $\\epsilon_t$ which represents **noise**.\n",
    "\n",
    "This is, in a way, the simplest form of the Prophet model.\n",
    "\n",
    "If we looks back at the Peyton Manning example, we can visilby see some of these constituents.\n",
    "\n",
    "<img style = \"width: 80%\" src=\"Images/peyton_seasons.png\">\n",
    "<center style=\"color: gray; font-style: italic\">Forecasting on Peyton Manning's Wikipedia page views using Facebook Prophet.</center>\n",
    "\n",
    "**Trend:** is a piecewise trend. Essentially what Prophet does is partition the data into points at which it *thinks* there will be a trend change, and then between each two points, interpolates using a linear or logistic function.\n",
    "\n",
    "<img style = \"width: 80%\" src=\"Images/Trends.png\">\n",
    "<center style=\"color: gray; font-style: italic\">A forecast showing the trend changepoints, and the linear functions that connect the changepoints to each other</center>\n",
    "<div style=\"visibility:hidden\">https://facebook.github.io/prophet/docs/trend_changepoints.html</div>\n",
    "\n",
    "Since the trend is piecewise, you can see that the interpolations are locally smooth. The exact Maths behind this, i.e. how Prophet is able to discriminate between actual changepoints and other points can be found here: https://peerj.com/preprints/3190/\n",
    "\n",
    "**Seasonality:** this refers to seasonal trends (or periodic signals) that exist in the dataset, in particular those that are smooth. Fourier series are used to model the periodic signals. Prophet is very powerful here, because it can discriminate between yearly, weekly and daily seasonalities (and others). \n",
    "\n",
    "For example, in the component decomposition of the Peyton Manning graph (where seasonality is a green curve), is not entirely accurate, since your seasonality can be more nuanced. In fact the green curve there is showing a seasonal trend with a period of 1 year. However, we can pick up on smaller seasonalities too, for instance:\n",
    "\n",
    "<img style = \"width: 80%\" src=\"Images/season_monthly.png\">\n",
    "<center style=\"color: gray; font-style: italic\">A forecast showing the inter-yearly seasonality</center>\n",
    "\n",
    "We see that the above feature repeats every year, so in fact we've captured what is known as **yearly seasonality**, i.e. a feature that repeats on a yearly basis.\n",
    "\n",
    "**Holidays:** these account for 'spikes' that are predictable but occur at irregular intervals. There will be more on this in the notebook, but for now we can consider once again, the Peyton Manning example. Since he is an NFL player, there will be times during the year where you would expect spikes in his pageviews (i.e. on the superbowl or during the playoffs), so, these could be accounted for.\n",
    "\n",
    "<img style = \"width: 80%\" src=\"Images/holidays_peyton.png\">\n",
    "\n",
    "<center style=\"color: gray; font-style: italic\">A forecast showing the playoffs in pink and superbowls in blue</center>\n",
    "\n",
    "Since these events, as clearly shown by the graph above, don't occur at regular intervals (for example: playoff dates date ever so slightly every single year, Mannings' team may make it to the superbowl only some years), Prophet gives this holiday feature.\n",
    "\n",
    "**Noise:** this is the last part of the Prophet model. Prophet assumed these to be independently and identically distributed from a Normal distribution."
   ]
  },
  {
   "cell_type": "markdown",
   "metadata": {},
   "source": [
    "# Basic implementation\n",
    "\n",
    "For the purposes of this Module, I've tried had to find datasets other than those available on the Prophet webpage, hoping to introduce you to different problems that have different challenges. That said, where I teach in the notebooks, I'll make use of already preprocessed data... for the challenges though, you will have to process them yourself to get practising ;)\n",
    "\n",
    "The first dataset is manufactured, it is simply a sine curve added to a linear line, plus a normal error term:\n",
    "$$y_i = \\sin{\\left(\\alpha\\,t_i\\right)} + t_i + Z_i$$\n",
    "\n",
    "Where:\n",
    "$$Z_i \\sim \\mathcal{N}\\left(\\mu,\\sigma^2\\right)$$\n",
    "\n",
    "and:\n",
    "\n",
    "<center>$\\alpha:$ 10</center>\n",
    "\n",
    "<center>$\\mu:$ 0</center>\n",
    "\n",
    "<center>$\\sigma:$ 0.3</center>\n",
    "\n",
    "With this in mind, we would **expect** to see a linear trend of $y=t$, since the rest of the values are oscillatory and don't increase in size, thus won't affect the trend."
   ]
  },
  {
   "cell_type": "code",
   "execution_count": 1,
   "metadata": {},
   "outputs": [],
   "source": [
    "from fbprophet import Prophet\n",
    "import pandas as pd\n",
    "import matplotlib.pyplot as plt"
   ]
  },
  {
   "cell_type": "code",
   "execution_count": 2,
   "metadata": {},
   "outputs": [
    {
     "data": {
      "text/html": [
       "<div>\n",
       "<style scoped>\n",
       "    .dataframe tbody tr th:only-of-type {\n",
       "        vertical-align: middle;\n",
       "    }\n",
       "\n",
       "    .dataframe tbody tr th {\n",
       "        vertical-align: top;\n",
       "    }\n",
       "\n",
       "    .dataframe thead th {\n",
       "        text-align: right;\n",
       "    }\n",
       "</style>\n",
       "<table border=\"1\" class=\"dataframe\">\n",
       "  <thead>\n",
       "    <tr style=\"text-align: right;\">\n",
       "      <th></th>\n",
       "      <th>ds</th>\n",
       "      <th>y</th>\n",
       "    </tr>\n",
       "  </thead>\n",
       "  <tbody>\n",
       "    <tr>\n",
       "      <th>0</th>\n",
       "      <td>2015-07-01 00:00:00</td>\n",
       "      <td>-0.026152</td>\n",
       "    </tr>\n",
       "    <tr>\n",
       "      <th>1</th>\n",
       "      <td>2015-07-02 20:38:11</td>\n",
       "      <td>0.114911</td>\n",
       "    </tr>\n",
       "    <tr>\n",
       "      <th>2</th>\n",
       "      <td>2015-07-04 17:16:23</td>\n",
       "      <td>0.234385</td>\n",
       "    </tr>\n",
       "    <tr>\n",
       "      <th>3</th>\n",
       "      <td>2015-07-06 13:54:35</td>\n",
       "      <td>0.233201</td>\n",
       "    </tr>\n",
       "    <tr>\n",
       "      <th>4</th>\n",
       "      <td>2015-07-08 10:32:47</td>\n",
       "      <td>0.170861</td>\n",
       "    </tr>\n",
       "  </tbody>\n",
       "</table>\n",
       "</div>"
      ],
      "text/plain": [
       "                    ds         y\n",
       "0  2015-07-01 00:00:00 -0.026152\n",
       "1  2015-07-02 20:38:11  0.114911\n",
       "2  2015-07-04 17:16:23  0.234385\n",
       "3  2015-07-06 13:54:35  0.233201\n",
       "4  2015-07-08 10:32:47  0.170861"
      ]
     },
     "execution_count": 2,
     "metadata": {},
     "output_type": "execute_result"
    }
   ],
   "source": [
    "path = '../../../DATA/sine.csv' # path to data\n",
    "\n",
    "df = pd.read_csv(path, index_col = 0)\n",
    "\n",
    "df.head()"
   ]
  },
  {
   "cell_type": "markdown",
   "metadata": {},
   "source": [
    "Prophet requires the 'time' variable to be called 'ds', and the target variable to be called 'y'. The time variabe ('ds') must also be strings in a datetime format, so 'YYYY-mm-dd' or 'YYYY-mm-dd HH:MM:SS'. For the sake of this tutorial, the data is already in this format; but this is **important for when you use Prophet for other projects.**"
   ]
  },
  {
   "cell_type": "code",
   "execution_count": 3,
   "metadata": {},
   "outputs": [
    {
     "name": "stderr",
     "output_type": "stream",
     "text": [
      "INFO:fbprophet:Disabling daily seasonality. Run prophet with daily_seasonality=True to override this.\n"
     ]
    },
    {
     "name": "stdout",
     "output_type": "stream",
     "text": [
      "(1365, 1)\n"
     ]
    },
    {
     "data": {
      "text/html": [
       "<div>\n",
       "<style scoped>\n",
       "    .dataframe tbody tr th:only-of-type {\n",
       "        vertical-align: middle;\n",
       "    }\n",
       "\n",
       "    .dataframe tbody tr th {\n",
       "        vertical-align: top;\n",
       "    }\n",
       "\n",
       "    .dataframe thead th {\n",
       "        text-align: right;\n",
       "    }\n",
       "</style>\n",
       "<table border=\"1\" class=\"dataframe\">\n",
       "  <thead>\n",
       "    <tr style=\"text-align: right;\">\n",
       "      <th></th>\n",
       "      <th>ds</th>\n",
       "    </tr>\n",
       "  </thead>\n",
       "  <tbody>\n",
       "    <tr>\n",
       "      <th>1360</th>\n",
       "      <td>2021-07-28</td>\n",
       "    </tr>\n",
       "    <tr>\n",
       "      <th>1361</th>\n",
       "      <td>2021-07-29</td>\n",
       "    </tr>\n",
       "    <tr>\n",
       "      <th>1362</th>\n",
       "      <td>2021-07-30</td>\n",
       "    </tr>\n",
       "    <tr>\n",
       "      <th>1363</th>\n",
       "      <td>2021-07-31</td>\n",
       "    </tr>\n",
       "    <tr>\n",
       "      <th>1364</th>\n",
       "      <td>2021-08-01</td>\n",
       "    </tr>\n",
       "  </tbody>\n",
       "</table>\n",
       "</div>"
      ],
      "text/plain": [
       "             ds\n",
       "1360 2021-07-28\n",
       "1361 2021-07-29\n",
       "1362 2021-07-30\n",
       "1363 2021-07-31\n",
       "1364 2021-08-01"
      ]
     },
     "execution_count": 3,
     "metadata": {},
     "output_type": "execute_result"
    }
   ],
   "source": [
    "model = Prophet() # instantiate Prophet model\n",
    "model.fit(df)\n",
    "\n",
    "df_future = model.make_future_dataframe(periods = 365) # create time index for future forecast (1 year)\n",
    "print(df_future.shape)\n",
    "df_future.tail()\n"
   ]
  },
  {
   "cell_type": "markdown",
   "metadata": {},
   "source": [
    "The 'make_future_dataframe' function is useful, as it allows us to create forecasts with Prophet. What this does is extend the time variable ('ds') for the next X indexes , where X is defined by the user using periods = X. So in the above case, we created 365 extra points. Note that the 'df_future' includes the **initial** 'df' values too."
   ]
  },
  {
   "cell_type": "code",
   "execution_count": 4,
   "metadata": {},
   "outputs": [
    {
     "data": {
      "text/html": [
       "<div>\n",
       "<style scoped>\n",
       "    .dataframe tbody tr th:only-of-type {\n",
       "        vertical-align: middle;\n",
       "    }\n",
       "\n",
       "    .dataframe tbody tr th {\n",
       "        vertical-align: top;\n",
       "    }\n",
       "\n",
       "    .dataframe thead th {\n",
       "        text-align: right;\n",
       "    }\n",
       "</style>\n",
       "<table border=\"1\" class=\"dataframe\">\n",
       "  <thead>\n",
       "    <tr style=\"text-align: right;\">\n",
       "      <th></th>\n",
       "      <th>ds</th>\n",
       "      <th>trend</th>\n",
       "      <th>yhat_lower</th>\n",
       "      <th>yhat_upper</th>\n",
       "      <th>trend_lower</th>\n",
       "      <th>trend_upper</th>\n",
       "      <th>additive_terms</th>\n",
       "      <th>additive_terms_lower</th>\n",
       "      <th>additive_terms_upper</th>\n",
       "      <th>weekly</th>\n",
       "      <th>weekly_lower</th>\n",
       "      <th>weekly_upper</th>\n",
       "      <th>yearly</th>\n",
       "      <th>yearly_lower</th>\n",
       "      <th>yearly_upper</th>\n",
       "      <th>multiplicative_terms</th>\n",
       "      <th>multiplicative_terms_lower</th>\n",
       "      <th>multiplicative_terms_upper</th>\n",
       "      <th>yhat</th>\n",
       "    </tr>\n",
       "  </thead>\n",
       "  <tbody>\n",
       "    <tr>\n",
       "      <th>0</th>\n",
       "      <td>2015-07-01 00:00:00</td>\n",
       "      <td>0.121749</td>\n",
       "      <td>-0.846902</td>\n",
       "      <td>0.074995</td>\n",
       "      <td>0.121749</td>\n",
       "      <td>0.121749</td>\n",
       "      <td>-0.511250</td>\n",
       "      <td>-0.511250</td>\n",
       "      <td>-0.511250</td>\n",
       "      <td>0.028146</td>\n",
       "      <td>0.028146</td>\n",
       "      <td>0.028146</td>\n",
       "      <td>-0.539396</td>\n",
       "      <td>-0.539396</td>\n",
       "      <td>-0.539396</td>\n",
       "      <td>0.0</td>\n",
       "      <td>0.0</td>\n",
       "      <td>0.0</td>\n",
       "      <td>-0.389500</td>\n",
       "    </tr>\n",
       "    <tr>\n",
       "      <th>1</th>\n",
       "      <td>2015-07-02 20:38:11</td>\n",
       "      <td>0.127302</td>\n",
       "      <td>-0.827861</td>\n",
       "      <td>0.073008</td>\n",
       "      <td>0.127302</td>\n",
       "      <td>0.127302</td>\n",
       "      <td>-0.512165</td>\n",
       "      <td>-0.512165</td>\n",
       "      <td>-0.512165</td>\n",
       "      <td>-0.023995</td>\n",
       "      <td>-0.023995</td>\n",
       "      <td>-0.023995</td>\n",
       "      <td>-0.488169</td>\n",
       "      <td>-0.488169</td>\n",
       "      <td>-0.488169</td>\n",
       "      <td>0.0</td>\n",
       "      <td>0.0</td>\n",
       "      <td>0.0</td>\n",
       "      <td>-0.384863</td>\n",
       "    </tr>\n",
       "    <tr>\n",
       "      <th>2</th>\n",
       "      <td>2015-07-04 17:16:23</td>\n",
       "      <td>0.132854</td>\n",
       "      <td>-0.743078</td>\n",
       "      <td>0.186666</td>\n",
       "      <td>0.132854</td>\n",
       "      <td>0.132854</td>\n",
       "      <td>-0.419919</td>\n",
       "      <td>-0.419919</td>\n",
       "      <td>-0.419919</td>\n",
       "      <td>0.013428</td>\n",
       "      <td>0.013428</td>\n",
       "      <td>0.013428</td>\n",
       "      <td>-0.433346</td>\n",
       "      <td>-0.433346</td>\n",
       "      <td>-0.433346</td>\n",
       "      <td>0.0</td>\n",
       "      <td>0.0</td>\n",
       "      <td>0.0</td>\n",
       "      <td>-0.287064</td>\n",
       "    </tr>\n",
       "    <tr>\n",
       "      <th>3</th>\n",
       "      <td>2015-07-06 13:54:35</td>\n",
       "      <td>0.138407</td>\n",
       "      <td>-0.727413</td>\n",
       "      <td>0.202662</td>\n",
       "      <td>0.138407</td>\n",
       "      <td>0.138407</td>\n",
       "      <td>-0.401891</td>\n",
       "      <td>-0.401891</td>\n",
       "      <td>-0.401891</td>\n",
       "      <td>-0.027118</td>\n",
       "      <td>-0.027118</td>\n",
       "      <td>-0.027118</td>\n",
       "      <td>-0.374773</td>\n",
       "      <td>-0.374773</td>\n",
       "      <td>-0.374773</td>\n",
       "      <td>0.0</td>\n",
       "      <td>0.0</td>\n",
       "      <td>0.0</td>\n",
       "      <td>-0.263485</td>\n",
       "    </tr>\n",
       "    <tr>\n",
       "      <th>4</th>\n",
       "      <td>2015-07-08 10:32:47</td>\n",
       "      <td>0.143959</td>\n",
       "      <td>-0.614700</td>\n",
       "      <td>0.333677</td>\n",
       "      <td>0.143959</td>\n",
       "      <td>0.143959</td>\n",
       "      <td>-0.291807</td>\n",
       "      <td>-0.291807</td>\n",
       "      <td>-0.291807</td>\n",
       "      <td>0.020613</td>\n",
       "      <td>0.020613</td>\n",
       "      <td>0.020613</td>\n",
       "      <td>-0.312421</td>\n",
       "      <td>-0.312421</td>\n",
       "      <td>-0.312421</td>\n",
       "      <td>0.0</td>\n",
       "      <td>0.0</td>\n",
       "      <td>0.0</td>\n",
       "      <td>-0.147848</td>\n",
       "    </tr>\n",
       "  </tbody>\n",
       "</table>\n",
       "</div>"
      ],
      "text/plain": [
       "                   ds     trend  yhat_lower  yhat_upper  trend_lower  \\\n",
       "0 2015-07-01 00:00:00  0.121749   -0.846902    0.074995     0.121749   \n",
       "1 2015-07-02 20:38:11  0.127302   -0.827861    0.073008     0.127302   \n",
       "2 2015-07-04 17:16:23  0.132854   -0.743078    0.186666     0.132854   \n",
       "3 2015-07-06 13:54:35  0.138407   -0.727413    0.202662     0.138407   \n",
       "4 2015-07-08 10:32:47  0.143959   -0.614700    0.333677     0.143959   \n",
       "\n",
       "   trend_upper  additive_terms  additive_terms_lower  additive_terms_upper  \\\n",
       "0     0.121749       -0.511250             -0.511250             -0.511250   \n",
       "1     0.127302       -0.512165             -0.512165             -0.512165   \n",
       "2     0.132854       -0.419919             -0.419919             -0.419919   \n",
       "3     0.138407       -0.401891             -0.401891             -0.401891   \n",
       "4     0.143959       -0.291807             -0.291807             -0.291807   \n",
       "\n",
       "     weekly  weekly_lower  weekly_upper    yearly  yearly_lower  yearly_upper  \\\n",
       "0  0.028146      0.028146      0.028146 -0.539396     -0.539396     -0.539396   \n",
       "1 -0.023995     -0.023995     -0.023995 -0.488169     -0.488169     -0.488169   \n",
       "2  0.013428      0.013428      0.013428 -0.433346     -0.433346     -0.433346   \n",
       "3 -0.027118     -0.027118     -0.027118 -0.374773     -0.374773     -0.374773   \n",
       "4  0.020613      0.020613      0.020613 -0.312421     -0.312421     -0.312421   \n",
       "\n",
       "   multiplicative_terms  multiplicative_terms_lower  \\\n",
       "0                   0.0                         0.0   \n",
       "1                   0.0                         0.0   \n",
       "2                   0.0                         0.0   \n",
       "3                   0.0                         0.0   \n",
       "4                   0.0                         0.0   \n",
       "\n",
       "   multiplicative_terms_upper      yhat  \n",
       "0                         0.0 -0.389500  \n",
       "1                         0.0 -0.384863  \n",
       "2                         0.0 -0.287064  \n",
       "3                         0.0 -0.263485  \n",
       "4                         0.0 -0.147848  "
      ]
     },
     "execution_count": 4,
     "metadata": {},
     "output_type": "execute_result"
    }
   ],
   "source": [
    "forecast = model.predict(df_future) # create forecast\n",
    "\n",
    "forecast.head()"
   ]
  },
  {
   "cell_type": "markdown",
   "metadata": {},
   "source": [
    "The above dataframe shows the components generated by the Prophet model. 'yhat' represents the predicted line. 'yhat_lower' and 'yhat_upper' represent the confidence intervals for the prediction. There are other terms such as 'trend', 'additive_terms', 'weekly' and 'multiplicative' terms that will be discussed later."
   ]
  },
  {
   "cell_type": "code",
   "execution_count": 5,
   "metadata": {},
   "outputs": [
    {
     "data": {
      "image/png": "[encoded data removed]",
      "text/plain": [
       "<Figure size 720x432 with 1 Axes>"
      ]
     },
     "metadata": {},
     "output_type": "display_data"
    }
   ],
   "source": [
    "import matplotlib.pyplot as plt\n",
    "\n",
    "fig_1 = model.plot(forecast) # plot the model"
   ]
  },
  {
   "cell_type": "markdown",
   "metadata": {},
   "source": [
    "The black dots represent actual data points, while the blue line represents the 'yhat', and the faint blue shadowing represents the confidence intervals. Anything outside this would be considered an 'anomaly'. The individual components of the above plot can also be easily visualised using:"
   ]
  },
  {
   "cell_type": "code",
   "execution_count": 6,
   "metadata": {},
   "outputs": [
    {
     "data": {
      "image/png": "[encoded data removed]",
      "text/plain": [
       "<Figure size 648x648 with 3 Axes>"
      ]
     },
     "metadata": {},
     "output_type": "display_data"
    }
   ],
   "source": [
    "fig_2 = model.plot_components(forecast)"
   ]
  },
  {
   "cell_type": "markdown",
   "metadata": {},
   "source": [
    "This is highly useful when exploring datasets, for it can provide you with interesting insight. In this case, we notice that the trend is as we expected, a straight line. To view how to extract the above information individually, double click this cell.\n",
    "\n",
    "<!--\n",
    "\n",
    "# to extract information from each plot, you must unpack the axes. The above is a matplotlib 'subplot' object.\n",
    "# So:\n",
    "\n",
    "plots = fig_2.get_axes()\n",
    "\n",
    "# trend\n",
    "x,y = plots[0].lines[0].get_data()\n",
    "\n",
    "# weekly\n",
    "x,y = plots[1].lines[0].get_data()\n",
    "\n",
    "# yearly\n",
    "x,y = plots[2].lines[0].get_data()\n",
    "\n",
    "-->"
   ]
  },
  {
   "cell_type": "markdown",
   "metadata": {},
   "source": [
    "# Holidays\n",
    "\n",
    "I will start explaining the concept of holidays before we get into seasonality, since this is more intuitive.\n",
    "\n",
    "Holidays can be quite important in analysis, because you might want to capture irregular occurances. \n",
    "\n",
    "For example, consider that you want to model the car usage in the UAE. Unlike in Europe, religious holidays are not fixed, since Eid (a Muslim holiday) is based on a lunar calendar, and thus moves back by 10 days every year with respect to the Gregorian calendar. In such a case, you would need to specify the dates of Eid, so that the Prophet model 'knows' that there will be spikes on those days.\n",
    "\n",
    "But one must be careful when specifying holidays: in Europe for example, Christmas is a recurring holiday that happens on the same day, every year. As such, it would automatically get captured by the yearly seasonality. In that case, Prophet would add an extra 'holiday' effect on top of the yearly seasonality for Christmas."
   ]
  },
  {
   "cell_type": "markdown",
   "metadata": {},
   "source": [
    "Holidays must be set as a dataframe with 4 columns, 'holiday' which is what the holiday is, a 'ds' column which is the date at which the holiday occurs, 'lower_window' and 'upper_window'.\n",
    "\n",
    "Lower and Upper window control the amount of days that the holiday lags or leads for. For example, a holiday like Christmas will always effectively act as at least two days, since there is always a day for boxing day. In this case, it would be given an 'upper_window' or 1 (i.e. the holiday lasts for 1 day after the date specified) and a 'lower_window' of 0.\n",
    "\n",
    "Likewise, in the UAE, Eid typically lasts for 3 days, so in that case, the 'upper_window' is 2.\n",
    "\n",
    "Let's see an example of how to set this up for Eid, from 2015 to 2020."
   ]
  },
  {
   "cell_type": "code",
   "execution_count": 7,
   "metadata": {},
   "outputs": [
    {
     "data": {
      "text/html": [
       "<div>\n",
       "<style scoped>\n",
       "    .dataframe tbody tr th:only-of-type {\n",
       "        vertical-align: middle;\n",
       "    }\n",
       "\n",
       "    .dataframe tbody tr th {\n",
       "        vertical-align: top;\n",
       "    }\n",
       "\n",
       "    .dataframe thead th {\n",
       "        text-align: right;\n",
       "    }\n",
       "</style>\n",
       "<table border=\"1\" class=\"dataframe\">\n",
       "  <thead>\n",
       "    <tr style=\"text-align: right;\">\n",
       "      <th></th>\n",
       "      <th>holiday</th>\n",
       "      <th>ds</th>\n",
       "      <th>upper_window</th>\n",
       "      <th>lower_window</th>\n",
       "    </tr>\n",
       "  </thead>\n",
       "  <tbody>\n",
       "    <tr>\n",
       "      <th>0</th>\n",
       "      <td>eid_al_fitr</td>\n",
       "      <td>2015-07-17</td>\n",
       "      <td>2</td>\n",
       "      <td>0</td>\n",
       "    </tr>\n",
       "    <tr>\n",
       "      <th>1</th>\n",
       "      <td>eid_al_fitr</td>\n",
       "      <td>2016-07-06</td>\n",
       "      <td>2</td>\n",
       "      <td>0</td>\n",
       "    </tr>\n",
       "    <tr>\n",
       "      <th>2</th>\n",
       "      <td>eid_al_fitr</td>\n",
       "      <td>2017-06-25</td>\n",
       "      <td>2</td>\n",
       "      <td>0</td>\n",
       "    </tr>\n",
       "    <tr>\n",
       "      <th>3</th>\n",
       "      <td>eid_al_fitr</td>\n",
       "      <td>2018-06-15</td>\n",
       "      <td>2</td>\n",
       "      <td>0</td>\n",
       "    </tr>\n",
       "    <tr>\n",
       "      <th>4</th>\n",
       "      <td>eid_al_fitr</td>\n",
       "      <td>2019-06-05</td>\n",
       "      <td>2</td>\n",
       "      <td>0</td>\n",
       "    </tr>\n",
       "    <tr>\n",
       "      <th>5</th>\n",
       "      <td>eid_al_fitr</td>\n",
       "      <td>2020-05-24</td>\n",
       "      <td>2</td>\n",
       "      <td>0</td>\n",
       "    </tr>\n",
       "    <tr>\n",
       "      <th>0</th>\n",
       "      <td>eid_al_adha</td>\n",
       "      <td>2015-09-24</td>\n",
       "      <td>2</td>\n",
       "      <td>0</td>\n",
       "    </tr>\n",
       "    <tr>\n",
       "      <th>1</th>\n",
       "      <td>eid_al_adha</td>\n",
       "      <td>2016-09-10</td>\n",
       "      <td>2</td>\n",
       "      <td>0</td>\n",
       "    </tr>\n",
       "    <tr>\n",
       "      <th>2</th>\n",
       "      <td>eid_al_adha</td>\n",
       "      <td>2017-08-31</td>\n",
       "      <td>2</td>\n",
       "      <td>0</td>\n",
       "    </tr>\n",
       "    <tr>\n",
       "      <th>3</th>\n",
       "      <td>eid_al_adha</td>\n",
       "      <td>2018-08-22</td>\n",
       "      <td>2</td>\n",
       "      <td>0</td>\n",
       "    </tr>\n",
       "    <tr>\n",
       "      <th>4</th>\n",
       "      <td>eid_al_adha</td>\n",
       "      <td>2019-08-12</td>\n",
       "      <td>2</td>\n",
       "      <td>0</td>\n",
       "    </tr>\n",
       "    <tr>\n",
       "      <th>5</th>\n",
       "      <td>eid_al_adha</td>\n",
       "      <td>2020-07-31</td>\n",
       "      <td>2</td>\n",
       "      <td>0</td>\n",
       "    </tr>\n",
       "  </tbody>\n",
       "</table>\n",
       "</div>"
      ],
      "text/plain": [
       "       holiday          ds  upper_window  lower_window\n",
       "0  eid_al_fitr  2015-07-17             2             0\n",
       "1  eid_al_fitr  2016-07-06             2             0\n",
       "2  eid_al_fitr  2017-06-25             2             0\n",
       "3  eid_al_fitr  2018-06-15             2             0\n",
       "4  eid_al_fitr  2019-06-05             2             0\n",
       "5  eid_al_fitr  2020-05-24             2             0\n",
       "0  eid_al_adha  2015-09-24             2             0\n",
       "1  eid_al_adha  2016-09-10             2             0\n",
       "2  eid_al_adha  2017-08-31             2             0\n",
       "3  eid_al_adha  2018-08-22             2             0\n",
       "4  eid_al_adha  2019-08-12             2             0\n",
       "5  eid_al_adha  2020-07-31             2             0"
      ]
     },
     "execution_count": 7,
     "metadata": {},
     "output_type": "execute_result"
    }
   ],
   "source": [
    "eid_al_fitr = ['2015-07-17','2016-07-06','2017-06-25',\n",
    "               '2018-06-15','2019-06-05','2020-05-24'] # the first Muslim Eid, follows Ramadan directly\n",
    "\n",
    "eid_al_adha = ['2015-09-24','2016-09-10','2017-08-31',\n",
    "               '2018-08-22','2019-08-12','2020-07-31'] # the second Muslim eid\n",
    "\n",
    "holidays = pd.DataFrame(data = {\n",
    "    'holiday':'eid_al_fitr',\n",
    "    'ds':eid_al_fitr\n",
    "})\n",
    "\n",
    "holidays = pd.concat([holidays, pd.DataFrame( data = {'holiday':'eid_al_adha','ds':eid_al_adha})], axis = 0)\n",
    "\n",
    "holidays['upper_window'] = 2\n",
    "holidays['lower_window'] = 0\n",
    "\n",
    "holidays"
   ]
  },
  {
   "cell_type": "markdown",
   "metadata": {},
   "source": [
    "To instantiate a model AND include the effect of holidays, we must simply add a holidays keyword, as well as our holidays dataframe as inputs."
   ]
  },
  {
   "cell_type": "code",
   "execution_count": 8,
   "metadata": {},
   "outputs": [],
   "source": [
    "m_holidays = Prophet(holidays = holidays)"
   ]
  },
  {
   "cell_type": "markdown",
   "metadata": {},
   "source": [
    "Having added the holidays, we actually get an extra 'holidays' subplot in out component plot (**recall model.plot_components(forecast)**).\n",
    "\n",
    "I have not included a live example due to not finding good data for this problem, however, this is an annocated example of what the component plot *may* look like.\n",
    "\n",
    "<img style = \"width:50%\" src=\"Images/holidayslabel.png\">"
   ]
  },
  {
   "cell_type": "markdown",
   "metadata": {},
   "source": [
    "It is in fact possible to add another column to the holidays parameter, and this is called 'prior_scale'. This parameter controls how **sensitive** your Prophet model is to those holiday effects. Larger values allow the model to behave more sharply with regards to flucturations, whereas smaller values will give a smoother (yet perhaps underfitted) fit."
   ]
  },
  {
   "cell_type": "markdown",
   "metadata": {},
   "source": [
    "# Seasonality\n",
    "\n",
    "Now that you are aware of how you can capture 'spiky' data (i.e. that which is due to known effects, such as holidays), I will spend some time explaining how you can tune parameters for capturing *smooth* or periodic data, i.e. the seasonal data"
   ]
  },
  {
   "cell_type": "markdown",
   "metadata": {},
   "source": [
    "### Types of seasonality\n",
    "\n",
    "Recall the two different types of seasonalities:\n",
    "\n",
    "Additive (default mode in Prophet)\n",
    "$$y(t) = g(t) + s(t) + h(t) + \\epsilon_t$$\n",
    "\n",
    "Example:\n",
    "\n",
    "<img style = \"width:60%\" src=\"Images/Additive_example.png\">\n",
    "\n",
    "Multiplicative:\n",
    "\n",
    "$$y(t) = g(t) \\cdot s(t) \\cdot h(t) \\cdot \\epsilon_t$$\n",
    "\n",
    "Example:\n",
    "\n",
    "<img style = \"width:60%\" src=\"Images/Multiplicative_example.png\">\n",
    "\n",
    "Using the default Prophet model will not work, since it is additive. Instead, we may have to set it's seasonality to multiplicative: this can be done by setting 'seasonality_mode = \"multiplicative\"'"
   ]
  },
  {
   "cell_type": "code",
   "execution_count": 9,
   "metadata": {},
   "outputs": [
    {
     "data": {
      "image/png": "[encoded data removed]",
      "text/plain": [
       "<Figure size 432x288 with 1 Axes>"
      ]
     },
     "metadata": {
      "needs_background": "light"
     },
     "output_type": "display_data"
    }
   ],
   "source": [
    "import numpy as np\n",
    "\n",
    "\n",
    "# test on data\n",
    "path = '../../../DATA/passengers.csv'\n",
    "df_multiplicative = pd.read_csv(path)\n",
    "\n",
    "\n",
    "fig = plt.figure() # examine the dataset\n",
    "plt.plot(df_multiplicative.index, df_multiplicative.y)\n",
    "\n",
    "# set xticks\n",
    "xloc = np.linspace(0,140,6)\n",
    "plt.xticks(xloc,labels=[df_multiplicative.ds[i] for i in xloc])\n",
    "\n",
    "plt.title('Plot showing the change in airline passengers over time')\n",
    "plt.xlabel('date')\n",
    "plt.ylabel('Passenger count (in thousands)')\n",
    "\n",
    "plt.show()"
   ]
  },
  {
   "cell_type": "markdown",
   "metadata": {},
   "source": [
    "Here, even more so than the artificial sine curve shows, we can see how the model is seasonal, with the seasonality increasing multiplicatively. This makes sense, for we expect the numpy of passengers to grow over time, but we also expect sharp peaks during the high season. Let's see the effect that we get when modelling with the additive and multiplicative methods."
   ]
  },
  {
   "cell_type": "markdown",
   "metadata": {},
   "source": [
    "<center> <h1>------------------------CODE BREAK------------------------</h1></center>"
   ]
  },
  {
   "cell_type": "code",
   "execution_count": 10,
   "metadata": {},
   "outputs": [],
   "source": [
    "## instantiate two Prophet models, one with a multiplicative seasonality, and one with an additive one \n",
    "## fit the passengers.csv data with both models and plot the outcome\n",
    "# the following link may be useful: https://github.com/facebook/prophet/blob/master/python/fbprophet/forecaster.py"
   ]
  },
  {
   "cell_type": "markdown",
   "metadata": {},
   "source": [
    "Click here for the analysis.\n",
    "\n",
    "<!--\n",
    "We notice two very important things from the above: \n",
    "The first model that assumed an additive seasonality was bad at fitting BOTH small values (nearer to 1949) and the larger ones. This is why when you define your models, you must be careful about the data that you are trying to model. Will it's seasonal trends get bigger over time? \n",
    "\n",
    "Typically, most time series data will work with the additive model. However, if you're dealing with things that are related to populations (which will always be increasing with time), then a multiplicative model may be more appropriate.\n",
    "-->\n"
   ]
  },
  {
   "cell_type": "markdown",
   "metadata": {},
   "source": [
    "### Fourier order of model"
   ]
  },
  {
   "cell_type": "markdown",
   "metadata": {},
   "source": [
    "So you may be wondering how Prophet is able to (somewhat well) capture periodic (seasonal) trends?\n",
    "\n",
    "This is because it uses a Fourier series approximation for seasonal trends:\n",
    "\n",
    "$$\n",
    "s(t) = \\sum_{n=1}^N \\left (\n",
    "a_n\\cos{\n",
    "\\left(\n",
    "\\frac{2\\pi nt}{P}\n",
    "\\right) + b_n \\sin{\n",
    "\\left(\n",
    "\\frac{2\\pi nt}{P}\n",
    "\\right)\n",
    "}\n",
    "}\n",
    "\\right)$$\n",
    "\n",
    "Where:\n",
    "\n",
    "$s(t)$: the seasonal signal\n",
    "\n",
    "$P$: period in days, so for example a yearly seasonality has $P = 365.25$\n",
    "\n",
    "It is out of the scope of this notebook to go into detail with what Fourier series are, or how the Prophet model does this exactly, however if you are interested you can visit the following two links:\n",
    "\n",
    "1) Fourier series: https://www.youtube.com/watch?v=r6sGWTCMz2k&list=PLZHQObOWTQDNPOjrT6KVlfJuKtYTftqH6&index=4\n",
    "\n",
    "2) Prophet model paper: https://peerj.com/preprints/3190/\n",
    "\n",
    "That said, for using Prophet, all you need to know is how the **order** of the Fourier fit affects the fitting of the the model. The higher the order of the model, the more likely it is that your data will be overfit.\n",
    "\n",
    "Let's revisit the first example with the manufactured sign wave. \n",
    "\n",
    "<img style = \"width:50%\" src=\"Images/Fourier100.png\">\n",
    "<center style=\"color: gray; font-style: italic\">Fourier order = 100, clearly an overfit</center>\n",
    "\n",
    "\n",
    "<img style = \"width:50%\" src=\"Images/Fourier1.png\">\n",
    "<center style=\"color: gray; font-style: italic\">Fourier order = 1, clearly an underfit</center>\n",
    "\n",
    "\n",
    "<img style = \"width:50%\" src=\"Images/Fourier2.png\">\n",
    "<center style=\"color: gray; font-style: italic\">Fourier order = 2, seems like a good fit</center>\n",
    "\n",
    "We can clearly see that the the order of the fit affects the smoothness of the fit. You may be wondering why an increase from Fourier order 1 to 2 has caused such a massive difference. That's because there is another factor that affects the smoothness of the fit, which the 'prior_scale' discussed in the holidays section above.\n",
    "\n",
    "Before, we mentioned that the 'prior_scale' defines how sensitive the model is to holiday effects. However, in the context of seasonality, 'prior_scale' affects how sensitive the model is to seasonality. Once again, the higher the prior_scale, the more sensitive the model is to seasonality. However, this effect is not exactly the same as the Fourier order effect.\n",
    "\n",
    "Consider the two following examples, both fitted with a fourier order of 100, but with different prior_scale values.\n",
    "\n",
    "<img style = \"width:50%\" src=\"Images/prior_large_fcst.png\">\n",
    "<center style=\"color: gray; font-style: italic\">Fourier order = 100, prior_scale = 0.01</center>\n",
    "\n",
    "\n",
    "<img style = \"width:50%\" src=\"Images/prior_large_fcst.png\">\n",
    "<center style=\"color: gray; font-style: italic\">Fourier order = 100, prior_scale = 1000</center>\n",
    "\n",
    "We can see that the above two graphs are almost identical... however, on close inspection we notice something interesting, in particular when we plot the components distributions.\n",
    "\n",
    "\n",
    "<img style = \"width:80%\" src=\"Images/both_scales.png\">\n",
    "<center style=\"color: gray; font-style: italic\">Fourier order = 100 for both</center>\n",
    "\n",
    "We can see that the prior_scale has had no effect on the general trend, or the yearly seasonality, but it has completely changed the way that the weekly seasonalities are interpreted."
   ]
  },
  {
   "cell_type": "markdown",
   "metadata": {},
   "source": [
    "# Other parameters\n",
    "\n",
    "The above leads us to good practices when creating Prophet models.\n",
    "\n",
    "You're now learnt that different parameters such as the fourier order, or the prior_scale affect the way that the model is built. That said, during **Basic Implementation**, you instantiated the Prophet models very simply with: model = Prophet(), so how can you add specific features to your Prophet models?\n",
    "\n",
    "To explain this, I will introduce you to what happens when you call the Prophet model.\n",
    "\n",
    "Within the code, Prophet looks something like this:"
   ]
  },
  {
   "cell_type": "code",
   "execution_count": 11,
   "metadata": {},
   "outputs": [],
   "source": [
    "def Prophet(growth='linear',\n",
    "            changepoints=None, n_changepoints=25, changepoint_range=0.8,\n",
    "            yearly_seasonality='auto', weekly_seasonality='auto', daily_seasonality='auto',\n",
    "            holidays=None, seasonality_mode='additive', seasonality_prior_scale=10.0,\n",
    "            holidays_prior_scale=10.0, changepoint_prior_scale=0.05,\n",
    "            mcmc_samples=0, interval_width=0.80,\n",
    "            uncertainty_samples=1000, stan_backend=None\n",
    "           ):\n",
    "    \"\"\"\n",
    "    other prophet function\n",
    "    \"\"\"\n",
    "    pass"
   ]
  },
  {
   "cell_type": "markdown",
   "metadata": {},
   "source": [
    "In fact, the above is not entirely true because Prophet is actually a **class**, and not a function, however this is just for visual purposes only.\n",
    "\n",
    "You can see that you've modified some of the features already:\n",
    "You've set holidays = holidays previously, using: model = Prophet(holidays = holidays), and also changed the seasonlity, using model = Prophet( seasonality_mode = \"multiplicative\").\n",
    "\n",
    "We will now explore some of the other features.\n",
    "\n",
    "- yearly_seasonality, weekly_seasonality and daily_seasonality\n",
    "- holidays_prior_scale and seasonality_prior_scale\n",
    "\n",
    "The rest of Prophet's attributes are out of the scope of this course, you may wish to read more about them here: https://github.com/facebook/prophet/blob/master/python/fbprophet/forecaster.py\n",
    "\n",
    "With regards to the seasonality options, each of them (yearly, daily and weekly) can take the following values:\n",
    "- auto: this is set by default. Using auto will allow the Prophet model to guess the best type of Fourier order to use for the seasonality\n",
    "- True: this will turn on yearly seasonality, with a Fourier order of 10\n",
    "- False: this will turn of the yearly seasonality\n",
    "- Fourier order (int): this will turn the yearly seasonality true with a fourier order of your choice\n",
    "\n",
    "With regards to the prior_scales, this function allows you to set a single prior scale for the entire model (this prior scale, whether it's holidays_pior_scale or seasonality_prior_scale, will affect all the holidays / seasonality respectively. Recall that when we learnt about holidays, it was possible to set the prior_scale values individually by adding a column called 'prior' scale).\n",
    "\n",
    "The prior scale essentially determines how strong the seasonality or holiday effect will be on the forecast. It is like a multiplicative factor that affects the value of $s(t)$ or $h(t)$. The lower the prior scale, the lower the effect, and the higher the scale the higher the effect.\n",
    "\n",
    "I now want you to spend a couple of minutes experimenting with these Prophet options, to see the impact that they have on models.\n",
    "\n",
    "When you play with them, I want you to keep the following in mind:\n",
    "\n",
    "1. How are the parameters affecting the model? (are they making the model rougher or smoother? are they completely changing the type of the fit? are they changing the size of the confidence intervals?)\n",
    "2. Don't just play with the parameters that I mentioned, I encouraged you to also look into what changepoints, n_changepoints, changepoint_range and growth do... that said though, prioritise seasonality and prior_scale parameters as those will be important for the next section"
   ]
  },
  {
   "cell_type": "markdown",
   "metadata": {},
   "source": [
    "<center> <h1>------------------------CODE BREAK------------------------</h1></center>"
   ]
  },
  {
   "cell_type": "code",
   "execution_count": 12,
   "metadata": {},
   "outputs": [],
   "source": [
    "## Explore the other Prophet properties on the sine.csv dataset\n",
    "\n",
    "# this cell does not have any teacher's solutions, it is fairly exploratory"
   ]
  },
  {
   "cell_type": "markdown",
   "metadata": {},
   "source": [
    "# Good Practice\n",
    "\n",
    "Now that you are hopefully more familiar with some of the parameters, I want to introduce you to some good practice with Prophet.\n",
    "\n",
    "Prophet has functions that allow even more functionality. We saw in the previous section that we can manually set yearly, weekly and daily seasonality, but what if we wanted something more specific? What if we want to set quarterely seasonality for example? Or biweekly seasonality? What if we were interested in setting a different prior_scale for each type of seasonality?\n",
    "\n",
    "We can do this using the following strategy:"
   ]
  },
  {
   "cell_type": "code",
   "execution_count": 13,
   "metadata": {},
   "outputs": [],
   "source": [
    "from fbprophet import Prophet # import Prophet again since it was redefined\n",
    "\n",
    "#NOTE: I'm only including parameters that we discussed in this notebook\n",
    "\n",
    "model = Prophet(\n",
    "    yearly_seasonality = False,\n",
    "    weekly_seasonality = False,\n",
    "    daily_seasonality = False,\n",
    "    holidays = None,\n",
    "    seasonality_mode = 'multiplicative'\n",
    ")\n",
    "\n",
    "# I have not set seasonality_prior_scale or holidays_prior_scale because those will be re-written by what I \n",
    "# write next"
   ]
  },
  {
   "cell_type": "code",
   "execution_count": 14,
   "metadata": {},
   "outputs": [
    {
     "data": {
      "text/plain": [
       "<fbprophet.forecaster.Prophet at 0x123536610>"
      ]
     },
     "execution_count": 14,
     "metadata": {},
     "output_type": "execute_result"
    }
   ],
   "source": [
    "# now, add yearly seasonality to model\n",
    "\n",
    "model.add_seasonality(name = 'yearly',\n",
    "                      period = 365.25,\n",
    "                      fourier_order = 3,\n",
    "                      prior_scale = 15,\n",
    "                      mode = 'additive')"
   ]
  },
  {
   "cell_type": "markdown",
   "metadata": {},
   "source": [
    "Note the power in doing this. The model that was initially instantiated was set with no seasonalities (since they were all set to False) and to a multiplicative mode. I have now added my own, custom seasonality that is yearly, where I control **all of** the fourier_order of the seasonality, the prior_scale for that specific seasonality, and also it's mode."
   ]
  },
  {
   "cell_type": "code",
   "execution_count": 15,
   "metadata": {},
   "outputs": [
    {
     "data": {
      "text/plain": [
       "<fbprophet.forecaster.Prophet at 0x123536610>"
      ]
     },
     "execution_count": 15,
     "metadata": {},
     "output_type": "execute_result"
    }
   ],
   "source": [
    "# using the same method, we add our own, custom, 'quarterly'\n",
    "\n",
    "model.add_seasonality(name = 'quarterly',\n",
    "                     period = 90,\n",
    "                     fourier_order = 5,\n",
    "                     prior_scale = 10,\n",
    "                     mode = 'additive')"
   ]
  },
  {
   "cell_type": "markdown",
   "metadata": {},
   "source": [
    "It is unlikely that you will be needing to set different modes for the seasonalities."
   ]
  },
  {
   "cell_type": "markdown",
   "metadata": {},
   "source": [
    "<center> <h1>------------------------CODE BREAK------------------------</h1></center>"
   ]
  },
  {
   "cell_type": "code",
   "execution_count": 16,
   "metadata": {},
   "outputs": [],
   "source": [
    "## recreate the forecast from \"Basic Implementation\", but this time set the parameters yourself\n",
    "## i.e. turn all of yearly, weekly and daily seasonalities to FALSE, and add the ones that you think are\n",
    "## necessary. Once again, the following link may be of use:\n",
    "## https://github.com/facebook/prophet/blob/master/python/fbprophet/forecaster.py"
   ]
  },
  {
   "cell_type": "markdown",
   "metadata": {},
   "source": [
    "# Model evaluation"
   ]
  },
  {
   "cell_type": "markdown",
   "metadata": {},
   "source": [
    "Prophet comes with it's own functions for validating the outcome. Effectively, the cross validation function in Prophet allows you to validate the model for certain 'horizons', by setting an initial startpoint for the starting point of the dataset to fit.\n",
    "\n",
    "<img style = \"width: 60%\" src=\"Images/CrossVal.png\">\n",
    "<center style=\"color: gray; font-style: italic\">An example of a forecast showing the horizon used for testing the model, the initial startpoint of the training data and the cutoff</center>\n",
    "<div style=\"visibility:hidden\">https://facebook.github.io/prophet/docs/diagnostics.html</div>\n",
    "\n",
    "Essentially, Prophet fits the model using the data *before* the cutoff point.\n",
    "\n",
    "As this is an introductory notebook to Prophet, a great deal of time will not be spent on validating the model. Instead the emphasis is on giving you a feel for how powerful the model is. It's important to note though, that Prophet does come with it's own methods for validating models. You can find more informaion here: https://facebook.github.io/prophet/docs/diagnostics.html (in fact, I suggest you do this for the Challenge in your own time)."
   ]
  },
  {
   "cell_type": "markdown",
   "metadata": {},
   "source": [
    "# Saving and retrieving a Prophet model"
   ]
  },
  {
   "cell_type": "markdown",
   "metadata": {},
   "source": [
    "Note that unlike other models, you may be tempted to use the Pickle library to save and load the model. However, Facebook warns against this, as doing so may cause issues with sme versions of Python, since the backend used for the Prophet model (stan) does not work well with pickle.\n",
    "\n",
    "So, the suggested method is converting it to a .json file."
   ]
  },
  {
   "cell_type": "code",
   "execution_count": 17,
   "metadata": {},
   "outputs": [
    {
     "ename": "ValueError",
     "evalue": "This can only be used to serialize models that have already been fit.",
     "output_type": "error",
     "traceback": [
      "\u001b[0;31m---------------------------------------------------------------------------\u001b[0m",
      "\u001b[0;31mValueError\u001b[0m                                Traceback (most recent call last)",
      "\u001b[0;32m<ipython-input-17-9a10295cbb38>\u001b[0m in \u001b[0;36m<module>\u001b[0;34m\u001b[0m\n\u001b[1;32m     10\u001b[0m \u001b[0;34m\u001b[0m\u001b[0m\n\u001b[1;32m     11\u001b[0m \u001b[0;32mwith\u001b[0m \u001b[0mopen\u001b[0m\u001b[0;34m(\u001b[0m\u001b[0;34m'Models/serialized_model.json'\u001b[0m\u001b[0;34m,\u001b[0m \u001b[0;34m'w'\u001b[0m\u001b[0;34m)\u001b[0m \u001b[0;32mas\u001b[0m \u001b[0mfout\u001b[0m\u001b[0;34m:\u001b[0m\u001b[0;34m\u001b[0m\u001b[0;34m\u001b[0m\u001b[0m\n\u001b[0;32m---> 12\u001b[0;31m     \u001b[0mjson\u001b[0m\u001b[0;34m.\u001b[0m\u001b[0mdump\u001b[0m\u001b[0;34m(\u001b[0m\u001b[0mmodel_to_json\u001b[0m\u001b[0;34m(\u001b[0m\u001b[0mmodel\u001b[0m\u001b[0;34m)\u001b[0m\u001b[0;34m,\u001b[0m \u001b[0mfout\u001b[0m\u001b[0;34m)\u001b[0m  \u001b[0;31m# Save model\u001b[0m\u001b[0;34m\u001b[0m\u001b[0;34m\u001b[0m\u001b[0m\n\u001b[0m\u001b[1;32m     13\u001b[0m \u001b[0;34m\u001b[0m\u001b[0m\n\u001b[1;32m     14\u001b[0m \u001b[0;32mwith\u001b[0m \u001b[0mopen\u001b[0m\u001b[0;34m(\u001b[0m\u001b[0;34m'Models/serialized_model.json'\u001b[0m\u001b[0;34m,\u001b[0m \u001b[0;34m'r'\u001b[0m\u001b[0;34m)\u001b[0m \u001b[0;32mas\u001b[0m \u001b[0mfin\u001b[0m\u001b[0;34m:\u001b[0m\u001b[0;34m\u001b[0m\u001b[0;34m\u001b[0m\u001b[0m\n",
      "\u001b[0;32m~/python_environments/KinKeepers_AI/lib/python3.7/site-packages/fbprophet/serialize.py\u001b[0m in \u001b[0;36mmodel_to_json\u001b[0;34m(model)\u001b[0m\n\u001b[1;32m     55\u001b[0m     \u001b[0;32mif\u001b[0m \u001b[0mmodel\u001b[0m\u001b[0;34m.\u001b[0m\u001b[0mhistory\u001b[0m \u001b[0;32mis\u001b[0m \u001b[0;32mNone\u001b[0m\u001b[0;34m:\u001b[0m\u001b[0;34m\u001b[0m\u001b[0;34m\u001b[0m\u001b[0m\n\u001b[1;32m     56\u001b[0m         raise ValueError(\n\u001b[0;32m---> 57\u001b[0;31m             \u001b[0;34m\"This can only be used to serialize models that have already been fit.\"\u001b[0m\u001b[0;34m\u001b[0m\u001b[0;34m\u001b[0m\u001b[0m\n\u001b[0m\u001b[1;32m     58\u001b[0m         )\n\u001b[1;32m     59\u001b[0m \u001b[0;34m\u001b[0m\u001b[0m\n",
      "\u001b[0;31mValueError\u001b[0m: This can only be used to serialize models that have already been fit."
     ]
    }
   ],
   "source": [
    "# saving the model using json\n",
    "# this code has been copied from the Facebook Prophet page\n",
    "# https://facebook.github.io/prophet/docs/additional_topics.html#saving-models\n",
    "# Note: you may have to manually install the serialize.py function\n",
    "\n",
    "\n",
    "import json\n",
    "from fbprophet import serialize\n",
    "from fbprophet.serialize import model_to_json, model_from_json\n",
    "\n",
    "with open('Models/serialized_model.json', 'w') as fout:\n",
    "    json.dump(model_to_json(model), fout)  # Save model\n",
    "\n",
    "with open('Models/serialized_model.json', 'r') as fin:\n",
    "    m = model_from_json(json.load(fin))  # Load model"
   ]
  },
  {
   "cell_type": "markdown",
   "metadata": {},
   "source": [
    "If you ran the above code and got an error, please double click this cell.\n",
    "\n",
    "<!--\n",
    "If you installed Facebook Prophet by following the installation instructions on the Prophet website (here: https://facebook.github.io/prophet/docs/installation.html), then you may not have the serialize.py file installed.\n",
    "\n",
    "I'm not sure why this happens, but it happened with me. So here are some solutions:\n",
    "(Note that these are for a Mac only)\n",
    "\n",
    "1. Visit the Prophet GitHub page, and go into the following folders (/python/fbprophet/) then:\n",
    "    - open the file serialize.py \n",
    "    - click 'Raw' (you will be taken to a plain text html page)\n",
    "    - press cmd + A to copy the entirety of the content\n",
    "    - open a TextEdit file (or an IDE of your choice)\n",
    "    - paste the copied test and save the file as 'serialize.py'\n",
    "    - find where fbprophet is installed in your personal computer\n",
    "    - move the serialize.py file that you created into the fbprophet folder\n",
    "    - the cell above should now run\n",
    "\n",
    "2. Use Pickle for the purpose of this exercise\n",
    "    - It's true that it's recommended that you don't use pickle, however, the errors caused by the stan backend seem to be limited in scope\n",
    "    - You can find more information here: https://github.com/facebook/prophet/issues/1415\n",
    " \n",
    "-->"
   ]
  },
  {
   "cell_type": "markdown",
   "metadata": {},
   "source": [
    "# Other things that you can do with Prophet...\n",
    "\n",
    "Due to time constraints, it was not possible to have an in depth and rigorous Prophet module. For more specific information regarding any of these topics, visit the Prophet website [2].\n",
    "\n",
    "Here are some examples of the things that you can do:\n",
    "\n",
    "1. Trend changepoints\n",
    "    - You have been briefly introduced to these, but the Prophet website gives examples of how you can manually set trend changepoints. \n",
    "    - This would be useful if you're forecasting stock data for example. Suppose that, for instance, you wanted to forecast Tesla's stock data. This is not periodic at all, with odd changepoints (for example: stocks dropping due to Elon Musk smoking weed on the Joe Rogan Experience https://www.marketwatch.com/story/elon-musks-high-and-teslas-low-stock-and-bonds-tumble-on-ceos-latest-shenanigans-2018-09-07). You could manually set that date as a changepoint, so that Prophet knows to account for it.\n",
    "    \n",
    "    \n",
    "2. Conditional seasonalities\n",
    "    - Suppose that you were modelling the Google searches for Lebron James. Naturally, you would expect the weekly seasonality within the playoff season to be different to that of the regular season. However, Prophet would try to use the same seasonality for every week. What you can then do, is to specify a specific condition (i.e. if playoffs) so that Prophet knows to treat those days differently.\n",
    "    \n",
    "    \n",
    "3. Different types of trends\n",
    "    - Though briefly mentioned, we haven't gone into setting logistic or flat trends.\n",
    "    - A logistic growth would be useful for something that converges to a flat line, such as for instance a logarithmic curve (if you're modelling how students from a cohort sign up to use the YOYO app over time. Here your population is fixed (cohort size).)\n",
    "    - You also have a fairly periodic signal with a flat trend, where the trend is neither decreasing nor increasing\n",
    "    \n",
    "    \n",
    "4. Non-daily data\n",
    "    - What if you wanted to model the changes within a day? An example for this would be if you're modelling water usage inside a residence. You would expect that at nighttime (say 00:00 - 8:00) there is little to no water use, an expected spike in the morning, and then smaller ones throughout the day\n",
    "    \n",
    "    \n",
    "5. Extra regressors\n",
    "    - Prophet allows you to add extra regressors (i.e. to make the Problem multivariate). This might be useful in some cases\n",
    "    \n",
    "6. Hyperparameter tuning and optimisation\n",
    "    - Prophet has functions that make it easier for you to choose the best hyperparameters for the model. You can find more on this on Prophet's webpage, here: https://facebook.github.io/prophet/docs/diagnostics.html\n",
    "\n",
    "\n"
   ]
  },
  {
   "cell_type": "markdown",
   "metadata": {},
   "source": [
    "# Conclusive Remarks\n",
    "\n",
    "Prophet is very powerful and easy to get started with. However, it's hard to get used to all of it's features and understand which ones to use. So continuous practice, as with everything, is always recommended.\n",
    "\n",
    "It also does have weaknesses, and it's worth knowing what these are.\n",
    "\n",
    "### Weaknesses of Prophet\n",
    "\n",
    "Since we know Prophet's strengths, we can clearly identify weaknesses.\n",
    "\n",
    "The greatest is perhaps the fact that Prophet requires lots of historical data. Further, one must note that for datasets that don't have a very clear seasonality, Prophet may not perform well. Prophet models also struggle with highly-skewed data.\n",
    "\n",
    "Let's see an example of a difficult dataset:\n",
    "\n",
    "<img style=\"width:60%\" src=\"Images/Low_seasonality_data.png\">\n",
    "<center style=\"color: gray; font-style: italic\">Time-series data of total gyration measured by an Arduino Nano BLE in a person's pocket.</center>\n",
    "\n",
    "<div style=\"visibility:hidden\"> https://github.com/namiyousef/Kin-Keepers/blob/master/Anomaly%20Detection%20in%20Significant%20Movements/Images/Ignacio_moving_average_1.png</div>\n",
    "\n",
    "The blue dots are essentially time-series data (the orange being a moving average - don't worry about the fact that it's discontinuous as this is not relevant). As you can see from the blue dots, there is no clear seasonality. Further to this, the data collected is representative of ~ 4 days. To make matters more problematic, the data is highly high-skewed (you can see this on the graph by the proportion of points that are close to 0!). Such datasets are not suitable for Prophet. \n",
    "\n",
    "Another weakness of Prophet is it's functionality regarding daily seasonalities (i.e. when you have repetitive features every day); this, however, is out of the scope of this notebook.  \n",
    "\n",
    "Now that you have an idea of what Prophet is, let's start playing!"
   ]
  },
  {
   "cell_type": "markdown",
   "metadata": {},
   "source": [
    "# Challenge\n",
    "\n",
    "In your own time, look for difficult datasets (you can check the UCI dataset repository, here: https://archive.ics.uci.edu), and try to model it using Prophet.\n",
    "\n",
    "Remember, Prophet is quite easy to use but requires practice for you to be able to master it. \n",
    "\n",
    "Try to cover all of the things discussed in this notebook, and more."
   ]
  },
  {
   "cell_type": "markdown",
   "metadata": {},
   "source": [
    "# References\n",
    "\n",
    "### Data sources:\n",
    "1. passengers.csv from https://machinelearningmastery.com/decompose-time-series-data-trend-seasonality/\n",
    "### Links:\n",
    "1. https://facebook.github.io/prophet/docs/quick_start.html#python-api\n",
    "2. https://facebook.github.io/prophet/\n",
    "3. https://medium.com/future-vision/intro-to-prophet-9d5b1cbd674e"
   ]
  }
 ],
 "metadata": {
  "kernelspec": {
   "display_name": "KinKeepers_AI",
   "language": "python",
   "name": "kinkeepers_ai"
  },
  "language_info": {
   "codemirror_mode": {
    "name": "ipython",
    "version": 3
   },
   "file_extension": ".py",
   "mimetype": "text/x-python",
   "name": "python",
   "nbconvert_exporter": "python",
   "pygments_lexer": "ipython3",
   "version": "3.7.6"
  }
 },
 "nbformat": 4,
 "nbformat_minor": 4
}
