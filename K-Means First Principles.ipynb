{
 "cells": [
  {
   "cell_type": "markdown",
   "metadata": {},
   "source": [
    "# K-Means first principles\n",
    "\n",
    "To fully understand the K-means clustering algorithm, and for the sake of practice, I try designing my own clustering algorithm :)"
   ]
  },
  {
   "cell_type": "markdown",
   "metadata": {},
   "source": [
    "# How does K-means clustering work?\n",
    "\n",
    "1) Initialise random cluster centres (# of clusters specified previously!)\n",
    "\n",
    "2) for each datapoint:\n",
    "    - calculate the distance to the cluster centre (find modulus of distance)\n",
    "    - find the cluster centre that is closest to the datapoint\n",
    "    - assign the datapoint to that cluster \n",
    "    \n",
    "3) update cluster centres (different parameters can be used for this, one way is to just use the mean of the datapoints set to the cluster)\n",
    "\n",
    "4) repeat steps 2) 3) until algorithm converges"
   ]
  },
  {
   "cell_type": "markdown",
   "metadata": {},
   "source": [
    "# What are the limitations?\n",
    "\n",
    "1) Number of clusters has to be pre-specifcied\n",
    "2) All clustered will have the same shape\n",
    "3) the 'convergence' will yield to you the 'local' optimum cluster centres, not necessarily the global ones. As such the choice of the initial cluster centres affects the accuracy obtained\n"
   ]
  },
  {
   "cell_type": "markdown",
   "metadata": {},
   "source": [
    "# Useful libraries"
   ]
  },
  {
   "cell_type": "code",
   "execution_count": 176,
   "metadata": {},
   "outputs": [],
   "source": [
    "import random # library for random number generation\n",
    "import numpy as np # library for vectorized computation\n",
    "import pandas as pd # library to process data as dataframes\n",
    "\n",
    "import matplotlib.pyplot as plt # plotting library\n",
    "# backend for rendering plots within the browser\n",
    "%matplotlib inline \n",
    "\n",
    "from sklearn.cluster import KMeans \n",
    "from sklearn.datasets.samples_generator import make_blobs\n",
    "from sklearn.preprocessing import MinMaxScaler as MinMax\n",
    "from sklearn.utils import shuffle "
   ]
  },
  {
   "cell_type": "markdown",
   "metadata": {},
   "source": [
    "# Data exploration"
   ]
  },
  {
   "cell_type": "code",
   "execution_count": 177,
   "metadata": {},
   "outputs": [
    {
     "data": {
      "image/png": "[encoded data removed]",
      "text/plain": [
       "<Figure size 432x288 with 1 Axes>"
      ]
     },
     "metadata": {
      "needs_background": "light"
     },
     "output_type": "display_data"
    },
    {
     "name": "stdout",
     "output_type": "stream",
     "text": [
      "     X    Y\n",
      "0 -4.9 -3.5\n",
      "1 -3.5 -4.0\n",
      "2  0.0 -3.5\n",
      "3 -4.5 -3.0\n",
      "4 -3.0 -2.9\n"
     ]
    },
    {
     "data": {
      "text/html": [
       "<div>\n",
       "<style scoped>\n",
       "    .dataframe tbody tr th:only-of-type {\n",
       "        vertical-align: middle;\n",
       "    }\n",
       "\n",
       "    .dataframe tbody tr th {\n",
       "        vertical-align: top;\n",
       "    }\n",
       "\n",
       "    .dataframe thead th {\n",
       "        text-align: right;\n",
       "    }\n",
       "</style>\n",
       "<table border=\"1\" class=\"dataframe\">\n",
       "  <thead>\n",
       "    <tr style=\"text-align: right;\">\n",
       "      <th></th>\n",
       "      <th>X</th>\n",
       "      <th>Y</th>\n",
       "    </tr>\n",
       "  </thead>\n",
       "  <tbody>\n",
       "    <tr>\n",
       "      <th>0</th>\n",
       "      <td>0.000000</td>\n",
       "      <td>0.047619</td>\n",
       "    </tr>\n",
       "    <tr>\n",
       "      <th>1</th>\n",
       "      <td>0.141414</td>\n",
       "      <td>0.000000</td>\n",
       "    </tr>\n",
       "    <tr>\n",
       "      <th>2</th>\n",
       "      <td>0.494949</td>\n",
       "      <td>0.047619</td>\n",
       "    </tr>\n",
       "    <tr>\n",
       "      <th>3</th>\n",
       "      <td>0.040404</td>\n",
       "      <td>0.095238</td>\n",
       "    </tr>\n",
       "    <tr>\n",
       "      <th>4</th>\n",
       "      <td>0.191919</td>\n",
       "      <td>0.104762</td>\n",
       "    </tr>\n",
       "  </tbody>\n",
       "</table>\n",
       "</div>"
      ],
      "text/plain": [
       "          X         Y\n",
       "0  0.000000  0.047619\n",
       "1  0.141414  0.000000\n",
       "2  0.494949  0.047619\n",
       "3  0.040404  0.095238\n",
       "4  0.191919  0.104762"
      ]
     },
     "execution_count": 177,
     "metadata": {},
     "output_type": "execute_result"
    }
   ],
   "source": [
    "x1 = [-4.9, -3.5, 0, -4.5, -3, -1, -1.2, -4.5, -1.5, -4.5, -1, -2, -2.5, -2, -1.5, 4, 1.8, 2, 2.5, 3, 4, 2.25, 1, 0, 1, 2.5, 5, 2.8, 2, 2]\n",
    "x2 = [-3.5, -4, -3.5, -3, -2.9, -3, -2.6, -2.1, 0, -0.5, -0.8, -0.8, -1.5, -1.75, -1.75, 0, 0.8, 0.9, 1, 1, 1, 1.75, 2, 2.5, 2.5, 2.5, 2.5, 3, 6, 6.5]\n",
    "#df = pd.DataFrame(columns=['X1','X2'], data = [np.transpose(x1),np.transpose(x2)])\n",
    "data = {'X':x1, 'Y':x2}\n",
    "df = pd.DataFrame(data=data)\n",
    "plt.scatter(x1,x2)\n",
    "plt.show()\n",
    "print(df.head())\n",
    "\n",
    "#data purosely converted to df for learning purposes\n",
    "MinMaxObj = MinMax()\n",
    "d_array = MinMaxObj.fit_transform(df.values);\n",
    "df_normalized = pd.DataFrame(d_array,columns = ['X','Y'])\n",
    "df_normalized.head()"
   ]
  },
  {
   "cell_type": "markdown",
   "metadata": {},
   "source": [
    "# Making my own Clustering algorithm for the first time"
   ]
  },
  {
   "cell_type": "code",
   "execution_count": 178,
   "metadata": {},
   "outputs": [
    {
     "name": "stdout",
     "output_type": "stream",
     "text": [
      "[[0.48215488215488217, 0.3606349206349206], [0.495959595959596, 0.41555555555555557]]\n"
     ]
    },
    {
     "data": {
      "image/png": "[encoded data removed]",
      "text/plain": [
       "<Figure size 432x288 with 1 Axes>"
      ]
     },
     "metadata": {
      "needs_background": "light"
     },
     "output_type": "display_data"
    }
   ],
   "source": [
    "def findInitClusters(d_array, num_centres):\n",
    "    \"\"\" finds initial clusters randomly based on mean \"\"\"\n",
    "    clusters = []\n",
    "    d_array = shuffle(d_array)\n",
    "    partitions = d_array.shape[0]//num_centres\n",
    "    for i in range(num_centres):\n",
    "        clusters.append(d_array[i*partitions:(i+1)*partitions].mean(0).tolist())\n",
    "    return clusters\n",
    "\n",
    "clusters = findInitClusters(d_array, 2)\n",
    "print(clusters)\n",
    "\n",
    "plt.scatter(df_normalized['X'],df_normalized['Y'])\n",
    "for row in clusters:\n",
    "    plt.scatter(row[0],row[1])\n",
    "plt.show()"
   ]
  },
  {
   "cell_type": "markdown",
   "metadata": {},
   "source": [
    "from above, it seems that we have at least two clusters for this particular dataset. The number of points is low tho, as such our intuition might be incorrect. I'm not sure if using K-means is the best approach here...\n",
    "However, for the purpose of the lab, we'll try it!"
   ]
  },
  {
   "cell_type": "code",
   "execution_count": 179,
   "metadata": {},
   "outputs": [
    {
     "data": {
      "image/png": "[encoded data removed]",
      "text/plain": [
       "<Figure size 432x288 with 1 Axes>"
      ]
     },
     "metadata": {
      "needs_background": "light"
     },
     "output_type": "display_data"
    }
   ],
   "source": [
    "#array = np.array([[1,2],[3,4],[5,6]])\n",
    "\n",
    "def findNearestCluster(d_array, cluster_centres):\n",
    "    \"\"\" finds the nearest cluster, note: cluster_centres is a list containing a lists of the coordinates \"\"\"\n",
    "    nearestCluster = [[] for i in range(len(cluster_centres))]\n",
    "    for row in d_array:\n",
    "        small_dist = 1;\n",
    "        index=0;\n",
    "        for cluster_index, cluster in enumerate(cluster_centres):\n",
    "            dist = ((np.array(row)-np.array(cluster))**2).sum()\n",
    "            if (dist<small_dist):\n",
    "                small_dist = dist;\n",
    "                index = cluster_index;\n",
    "        nearestCluster[index].append(row.tolist());\n",
    "    average_loc = np.zeros(len(cluster_centres))\n",
    "    return nearestCluster\n",
    "\n",
    "nearestCluster = findNearestCluster(d_array, clusters)\n",
    "\n",
    "def findCentres(d_clusters):\n",
    "    centres = [];\n",
    "    for cluster in d_clusters:\n",
    "        centres.append(np.array(cluster).mean(0))\n",
    "    return centres\n",
    "\n",
    "centres = findCentres(nearestCluster)\n",
    "\n",
    "plt.scatter(df_normalized['X'],df_normalized['Y'])\n",
    "for row in centres:\n",
    "    plt.scatter(row[0],row[1])\n",
    "plt.show()"
   ]
  },
  {
   "cell_type": "markdown",
   "metadata": {},
   "source": [
    "There has been *some* improvement, but very minimal... \n",
    "Perhaps my method of initialising functions had been wrong?"
   ]
  },
  {
   "cell_type": "code",
   "execution_count": 180,
   "metadata": {},
   "outputs": [
    {
     "data": {
      "image/png": "[encoded data removed]",
      "text/plain": [
       "<Figure size 432x288 with 1 Axes>"
      ]
     },
     "metadata": {
      "needs_background": "light"
     },
     "output_type": "display_data"
    }
   ],
   "source": [
    "# cluster after 1000 tries\n",
    "\n",
    "for tries in range(1000):\n",
    "    nearestCluster = findNearestCluster(d_array, centres)\n",
    "    centres = findCentres(nearestCluster)\n",
    "\n",
    "plt.scatter(df_normalized['X'],df_normalized['Y'])\n",
    "for row in centres:\n",
    "    plt.scatter(row[0],row[1])\n",
    "plt.show()"
   ]
  },
  {
   "cell_type": "markdown",
   "metadata": {},
   "source": [
    "It seems that I should indeed change my method of finding initial values...\n",
    "Let's hack it by choosing out own centres? And also, let's choose 2 clusters only this time.\n",
    "\n",
    "UPDATE: this is correct. My mistake was that I was plotting on the non-normalized axis, hence could not actually see the difference visually. It seems that my clustering algorithm works OK. Not bad!"
   ]
  },
  {
   "cell_type": "markdown",
   "metadata": {},
   "source": [
    "# Conclusion\n",
    "\n",
    "Not a bad start, and you learnt some important things about how lists and arrays behave. \n",
    "Next steps:\n",
    "- text this for a very large dataset and determine the time it takes. Try to optimise it\n",
    "- can you improve the plots? Ideally you'd colour code the plots, and show the cluster centres with different icons?"
   ]
  }
 ],
 "metadata": {
  "kernelspec": {
   "display_name": "Python 3",
   "language": "python",
   "name": "python3"
  },
  "language_info": {
   "codemirror_mode": {
    "name": "ipython",
    "version": 3
   },
   "file_extension": ".py",
   "mimetype": "text/x-python",
   "name": "python",
   "nbconvert_exporter": "python",
   "pygments_lexer": "ipython3",
   "version": "3.7.6"
  }
 },
 "nbformat": 4,
 "nbformat_minor": 4
}
